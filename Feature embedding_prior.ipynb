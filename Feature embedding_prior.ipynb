{
 "cells": [
  {
   "cell_type": "markdown",
   "metadata": {},
   "source": [
    "# Features embedding\n",
    "Here we would embedd all the features that need to be feed into the model from the JFK_2018_2022_final_features.csv file created using Feature extraction.ipynb file. \n",
    "We have used different type embedding for different type of features. \n",
    "Features like \"Delaym4h_s\",'Temperature_F', 'Dew_Point_F',  'Humidity_%',  'Wind_Speed_mph', 'Wind_Gust_mph', 'Pressure_in'and 'Precip_in' have values ranging upto 2 order of magnitudes. These features are normalised using min-max scaler. \n",
    "\n",
    "Features like 'DayOfWeek', \"Month\", \"Hour\" and \"wind direction\"  has inherent periodicty. For example hour 24 and hour 1 are closer to each other then hour 1 and 3. For these features one-hot encoding does not preserve the neigbourhood relationship these numbers have. Therefore we have used cycic embedding, where these features are mapped to a circle using x and y component. \n",
    "Finally feature \"condition\" is catagorical variable and has to be one hot encoded.\n"
   ]
  },
  {
   "cell_type": "code",
   "execution_count": 1,
   "metadata": {},
   "outputs": [],
   "source": [
    "import pandas as pd\n",
    "import imblearn\n",
    "import datetime\n",
    "from datetime import datetime\n",
    "import numpy as np\n",
    "import matplotlib.pyplot as plt\n",
    "import random\n",
    "import glob\n",
    "import os\n",
    "from scipy.interpolate import interp1d\n",
    "import seaborn as sns\n",
    "sns.set_style(\"whitegrid\")\n",
    "from datetime import datetime, timedelta"
   ]
  },
  {
   "cell_type": "code",
   "execution_count": 2,
   "metadata": {},
   "outputs": [
    {
     "data": {
      "text/html": [
       "<div>\n",
       "<style scoped>\n",
       "    .dataframe tbody tr th:only-of-type {\n",
       "        vertical-align: middle;\n",
       "    }\n",
       "\n",
       "    .dataframe tbody tr th {\n",
       "        vertical-align: top;\n",
       "    }\n",
       "\n",
       "    .dataframe thead th {\n",
       "        text-align: right;\n",
       "    }\n",
       "</style>\n",
       "<table border=\"1\" class=\"dataframe\">\n",
       "  <thead>\n",
       "    <tr style=\"text-align: right;\">\n",
       "      <th></th>\n",
       "      <th>DayOfWeek</th>\n",
       "      <th>Month</th>\n",
       "      <th>Hour</th>\n",
       "      <th>Temperature_F</th>\n",
       "      <th>Dew_Point_F</th>\n",
       "      <th>Humidity_%</th>\n",
       "      <th>Wind_Speed_mph</th>\n",
       "      <th>Wind_Gust_mph</th>\n",
       "      <th>Pressure_in</th>\n",
       "      <th>Precip_in</th>\n",
       "      <th>Wind</th>\n",
       "      <th>Condition</th>\n",
       "      <th>Carrier_delay_probabilty</th>\n",
       "      <th>Destination_delay_probabilty</th>\n",
       "      <th>Delaym4h_s</th>\n",
       "      <th>Yesterday_delay_probabilty</th>\n",
       "      <th>DepDelay</th>\n",
       "      <th>Label</th>\n",
       "    </tr>\n",
       "    <tr>\n",
       "      <th>Scheduled_Dep_Time</th>\n",
       "      <th></th>\n",
       "      <th></th>\n",
       "      <th></th>\n",
       "      <th></th>\n",
       "      <th></th>\n",
       "      <th></th>\n",
       "      <th></th>\n",
       "      <th></th>\n",
       "      <th></th>\n",
       "      <th></th>\n",
       "      <th></th>\n",
       "      <th></th>\n",
       "      <th></th>\n",
       "      <th></th>\n",
       "      <th></th>\n",
       "      <th></th>\n",
       "      <th></th>\n",
       "      <th></th>\n",
       "    </tr>\n",
       "  </thead>\n",
       "  <tbody>\n",
       "    <tr>\n",
       "      <th>2018-01-01 05:30:00</th>\n",
       "      <td>1</td>\n",
       "      <td>1</td>\n",
       "      <td>5</td>\n",
       "      <td>7.0</td>\n",
       "      <td>-5.0</td>\n",
       "      <td>58.0</td>\n",
       "      <td>17.0</td>\n",
       "      <td>0.0</td>\n",
       "      <td>30.34</td>\n",
       "      <td>0.0</td>\n",
       "      <td>NW</td>\n",
       "      <td>Fair</td>\n",
       "      <td>0.270596</td>\n",
       "      <td>0.222359</td>\n",
       "      <td>0.0</td>\n",
       "      <td>NaN</td>\n",
       "      <td>-9.0</td>\n",
       "      <td>0.0</td>\n",
       "    </tr>\n",
       "    <tr>\n",
       "      <th>2018-01-01 05:30:00</th>\n",
       "      <td>1</td>\n",
       "      <td>1</td>\n",
       "      <td>5</td>\n",
       "      <td>7.0</td>\n",
       "      <td>-5.0</td>\n",
       "      <td>58.0</td>\n",
       "      <td>21.0</td>\n",
       "      <td>0.0</td>\n",
       "      <td>30.36</td>\n",
       "      <td>0.0</td>\n",
       "      <td>NW</td>\n",
       "      <td>Fair / Windy</td>\n",
       "      <td>0.270596</td>\n",
       "      <td>0.291925</td>\n",
       "      <td>0.0</td>\n",
       "      <td>NaN</td>\n",
       "      <td>67.0</td>\n",
       "      <td>1.0</td>\n",
       "    </tr>\n",
       "    <tr>\n",
       "      <th>2018-01-01 05:45:00</th>\n",
       "      <td>1</td>\n",
       "      <td>1</td>\n",
       "      <td>5</td>\n",
       "      <td>7.0</td>\n",
       "      <td>-5.0</td>\n",
       "      <td>58.0</td>\n",
       "      <td>16.0</td>\n",
       "      <td>0.0</td>\n",
       "      <td>30.35</td>\n",
       "      <td>0.0</td>\n",
       "      <td>NW</td>\n",
       "      <td>Fair</td>\n",
       "      <td>0.270596</td>\n",
       "      <td>0.214052</td>\n",
       "      <td>0.0</td>\n",
       "      <td>NaN</td>\n",
       "      <td>-3.0</td>\n",
       "      <td>0.0</td>\n",
       "    </tr>\n",
       "    <tr>\n",
       "      <th>2018-01-01 05:50:00</th>\n",
       "      <td>1</td>\n",
       "      <td>1</td>\n",
       "      <td>5</td>\n",
       "      <td>7.0</td>\n",
       "      <td>-5.0</td>\n",
       "      <td>58.0</td>\n",
       "      <td>21.0</td>\n",
       "      <td>0.0</td>\n",
       "      <td>30.36</td>\n",
       "      <td>0.0</td>\n",
       "      <td>NW</td>\n",
       "      <td>Fair / Windy</td>\n",
       "      <td>0.270596</td>\n",
       "      <td>0.198739</td>\n",
       "      <td>0.0</td>\n",
       "      <td>NaN</td>\n",
       "      <td>83.0</td>\n",
       "      <td>1.0</td>\n",
       "    </tr>\n",
       "    <tr>\n",
       "      <th>2018-01-01 06:00:00</th>\n",
       "      <td>1</td>\n",
       "      <td>1</td>\n",
       "      <td>6</td>\n",
       "      <td>8.0</td>\n",
       "      <td>-5.0</td>\n",
       "      <td>55.0</td>\n",
       "      <td>18.0</td>\n",
       "      <td>0.0</td>\n",
       "      <td>30.37</td>\n",
       "      <td>0.0</td>\n",
       "      <td>NW</td>\n",
       "      <td>Fair</td>\n",
       "      <td>0.270596</td>\n",
       "      <td>0.186808</td>\n",
       "      <td>0.0</td>\n",
       "      <td>NaN</td>\n",
       "      <td>103.0</td>\n",
       "      <td>1.0</td>\n",
       "    </tr>\n",
       "    <tr>\n",
       "      <th>...</th>\n",
       "      <td>...</td>\n",
       "      <td>...</td>\n",
       "      <td>...</td>\n",
       "      <td>...</td>\n",
       "      <td>...</td>\n",
       "      <td>...</td>\n",
       "      <td>...</td>\n",
       "      <td>...</td>\n",
       "      <td>...</td>\n",
       "      <td>...</td>\n",
       "      <td>...</td>\n",
       "      <td>...</td>\n",
       "      <td>...</td>\n",
       "      <td>...</td>\n",
       "      <td>...</td>\n",
       "      <td>...</td>\n",
       "      <td>...</td>\n",
       "      <td>...</td>\n",
       "    </tr>\n",
       "    <tr>\n",
       "      <th>2022-07-31 22:50:00</th>\n",
       "      <td>7</td>\n",
       "      <td>7</td>\n",
       "      <td>22</td>\n",
       "      <td>75.0</td>\n",
       "      <td>68.0</td>\n",
       "      <td>79.0</td>\n",
       "      <td>10.0</td>\n",
       "      <td>0.0</td>\n",
       "      <td>30.05</td>\n",
       "      <td>0.0</td>\n",
       "      <td>SSW</td>\n",
       "      <td>Light Rain</td>\n",
       "      <td>0.207507</td>\n",
       "      <td>0.254032</td>\n",
       "      <td>9.0</td>\n",
       "      <td>0.217391</td>\n",
       "      <td>-1.0</td>\n",
       "      <td>0.0</td>\n",
       "    </tr>\n",
       "    <tr>\n",
       "      <th>2022-07-31 22:55:00</th>\n",
       "      <td>7</td>\n",
       "      <td>7</td>\n",
       "      <td>22</td>\n",
       "      <td>75.0</td>\n",
       "      <td>59.0</td>\n",
       "      <td>57.0</td>\n",
       "      <td>5.0</td>\n",
       "      <td>0.0</td>\n",
       "      <td>30.14</td>\n",
       "      <td>0.0</td>\n",
       "      <td>NE</td>\n",
       "      <td>Fair</td>\n",
       "      <td>0.517304</td>\n",
       "      <td>0.299375</td>\n",
       "      <td>9.0</td>\n",
       "      <td>0.217391</td>\n",
       "      <td>29.0</td>\n",
       "      <td>1.0</td>\n",
       "    </tr>\n",
       "    <tr>\n",
       "      <th>2022-07-31 22:59:00</th>\n",
       "      <td>7</td>\n",
       "      <td>7</td>\n",
       "      <td>22</td>\n",
       "      <td>75.0</td>\n",
       "      <td>68.0</td>\n",
       "      <td>79.0</td>\n",
       "      <td>10.0</td>\n",
       "      <td>0.0</td>\n",
       "      <td>30.05</td>\n",
       "      <td>0.0</td>\n",
       "      <td>SSW</td>\n",
       "      <td>Light Rain</td>\n",
       "      <td>0.207507</td>\n",
       "      <td>0.094340</td>\n",
       "      <td>8.0</td>\n",
       "      <td>0.217391</td>\n",
       "      <td>-16.0</td>\n",
       "      <td>0.0</td>\n",
       "    </tr>\n",
       "    <tr>\n",
       "      <th>2022-07-31 22:59:00</th>\n",
       "      <td>7</td>\n",
       "      <td>7</td>\n",
       "      <td>22</td>\n",
       "      <td>75.0</td>\n",
       "      <td>68.0</td>\n",
       "      <td>79.0</td>\n",
       "      <td>10.0</td>\n",
       "      <td>0.0</td>\n",
       "      <td>30.05</td>\n",
       "      <td>0.0</td>\n",
       "      <td>SSW</td>\n",
       "      <td>Light Rain</td>\n",
       "      <td>0.517304</td>\n",
       "      <td>0.483516</td>\n",
       "      <td>8.0</td>\n",
       "      <td>0.217391</td>\n",
       "      <td>14.0</td>\n",
       "      <td>0.0</td>\n",
       "    </tr>\n",
       "    <tr>\n",
       "      <th>2022-07-31 22:59:00</th>\n",
       "      <td>7</td>\n",
       "      <td>7</td>\n",
       "      <td>22</td>\n",
       "      <td>75.0</td>\n",
       "      <td>68.0</td>\n",
       "      <td>79.0</td>\n",
       "      <td>10.0</td>\n",
       "      <td>0.0</td>\n",
       "      <td>30.05</td>\n",
       "      <td>0.0</td>\n",
       "      <td>SSW</td>\n",
       "      <td>Light Rain</td>\n",
       "      <td>0.517304</td>\n",
       "      <td>0.226528</td>\n",
       "      <td>8.0</td>\n",
       "      <td>0.217391</td>\n",
       "      <td>-10.0</td>\n",
       "      <td>0.0</td>\n",
       "    </tr>\n",
       "  </tbody>\n",
       "</table>\n",
       "<p>608401 rows × 18 columns</p>\n",
       "</div>"
      ],
      "text/plain": [
       "                     DayOfWeek  Month  Hour  Temperature_F  Dew_Point_F  \\\n",
       "Scheduled_Dep_Time                                                        \n",
       "2018-01-01 05:30:00          1      1     5            7.0         -5.0   \n",
       "2018-01-01 05:30:00          1      1     5            7.0         -5.0   \n",
       "2018-01-01 05:45:00          1      1     5            7.0         -5.0   \n",
       "2018-01-01 05:50:00          1      1     5            7.0         -5.0   \n",
       "2018-01-01 06:00:00          1      1     6            8.0         -5.0   \n",
       "...                        ...    ...   ...            ...          ...   \n",
       "2022-07-31 22:50:00          7      7    22           75.0         68.0   \n",
       "2022-07-31 22:55:00          7      7    22           75.0         59.0   \n",
       "2022-07-31 22:59:00          7      7    22           75.0         68.0   \n",
       "2022-07-31 22:59:00          7      7    22           75.0         68.0   \n",
       "2022-07-31 22:59:00          7      7    22           75.0         68.0   \n",
       "\n",
       "                     Humidity_%  Wind_Speed_mph  Wind_Gust_mph  Pressure_in  \\\n",
       "Scheduled_Dep_Time                                                            \n",
       "2018-01-01 05:30:00        58.0            17.0            0.0        30.34   \n",
       "2018-01-01 05:30:00        58.0            21.0            0.0        30.36   \n",
       "2018-01-01 05:45:00        58.0            16.0            0.0        30.35   \n",
       "2018-01-01 05:50:00        58.0            21.0            0.0        30.36   \n",
       "2018-01-01 06:00:00        55.0            18.0            0.0        30.37   \n",
       "...                         ...             ...            ...          ...   \n",
       "2022-07-31 22:50:00        79.0            10.0            0.0        30.05   \n",
       "2022-07-31 22:55:00        57.0             5.0            0.0        30.14   \n",
       "2022-07-31 22:59:00        79.0            10.0            0.0        30.05   \n",
       "2022-07-31 22:59:00        79.0            10.0            0.0        30.05   \n",
       "2022-07-31 22:59:00        79.0            10.0            0.0        30.05   \n",
       "\n",
       "                     Precip_in Wind     Condition  Carrier_delay_probabilty  \\\n",
       "Scheduled_Dep_Time                                                            \n",
       "2018-01-01 05:30:00        0.0   NW          Fair                  0.270596   \n",
       "2018-01-01 05:30:00        0.0   NW  Fair / Windy                  0.270596   \n",
       "2018-01-01 05:45:00        0.0   NW          Fair                  0.270596   \n",
       "2018-01-01 05:50:00        0.0   NW  Fair / Windy                  0.270596   \n",
       "2018-01-01 06:00:00        0.0   NW          Fair                  0.270596   \n",
       "...                        ...  ...           ...                       ...   \n",
       "2022-07-31 22:50:00        0.0  SSW    Light Rain                  0.207507   \n",
       "2022-07-31 22:55:00        0.0   NE          Fair                  0.517304   \n",
       "2022-07-31 22:59:00        0.0  SSW    Light Rain                  0.207507   \n",
       "2022-07-31 22:59:00        0.0  SSW    Light Rain                  0.517304   \n",
       "2022-07-31 22:59:00        0.0  SSW    Light Rain                  0.517304   \n",
       "\n",
       "                     Destination_delay_probabilty  Delaym4h_s  \\\n",
       "Scheduled_Dep_Time                                              \n",
       "2018-01-01 05:30:00                      0.222359         0.0   \n",
       "2018-01-01 05:30:00                      0.291925         0.0   \n",
       "2018-01-01 05:45:00                      0.214052         0.0   \n",
       "2018-01-01 05:50:00                      0.198739         0.0   \n",
       "2018-01-01 06:00:00                      0.186808         0.0   \n",
       "...                                           ...         ...   \n",
       "2022-07-31 22:50:00                      0.254032         9.0   \n",
       "2022-07-31 22:55:00                      0.299375         9.0   \n",
       "2022-07-31 22:59:00                      0.094340         8.0   \n",
       "2022-07-31 22:59:00                      0.483516         8.0   \n",
       "2022-07-31 22:59:00                      0.226528         8.0   \n",
       "\n",
       "                     Yesterday_delay_probabilty  DepDelay  Label  \n",
       "Scheduled_Dep_Time                                                \n",
       "2018-01-01 05:30:00                         NaN      -9.0    0.0  \n",
       "2018-01-01 05:30:00                         NaN      67.0    1.0  \n",
       "2018-01-01 05:45:00                         NaN      -3.0    0.0  \n",
       "2018-01-01 05:50:00                         NaN      83.0    1.0  \n",
       "2018-01-01 06:00:00                         NaN     103.0    1.0  \n",
       "...                                         ...       ...    ...  \n",
       "2022-07-31 22:50:00                    0.217391      -1.0    0.0  \n",
       "2022-07-31 22:55:00                    0.217391      29.0    1.0  \n",
       "2022-07-31 22:59:00                    0.217391     -16.0    0.0  \n",
       "2022-07-31 22:59:00                    0.217391      14.0    0.0  \n",
       "2022-07-31 22:59:00                    0.217391     -10.0    0.0  \n",
       "\n",
       "[608401 rows x 18 columns]"
      ]
     },
     "execution_count": 2,
     "metadata": {},
     "output_type": "execute_result"
    }
   ],
   "source": [
    "feature_df=pd.read_csv(\"JFK_2018_2022_final_features_prior.csv\")\n",
    "\n",
    "feature_df.Scheduled_Dep_Time = pd.to_datetime(feature_df.Scheduled_Dep_Time)\n",
    "feature_df= feature_df.set_index('Scheduled_Dep_Time')\n",
    "feature_df"
   ]
  },
  {
   "cell_type": "code",
   "execution_count": 3,
   "metadata": {},
   "outputs": [
    {
     "name": "stdout",
     "output_type": "stream",
     "text": [
      "['onehotencoder__x0_Cloudy', 'onehotencoder__x0_Cloudy / Windy', 'onehotencoder__x0_Drizzle and Fog', 'onehotencoder__x0_Fair', 'onehotencoder__x0_Fair / Windy', 'onehotencoder__x0_Fog', 'onehotencoder__x0_Fog / Windy', 'onehotencoder__x0_Haze', 'onehotencoder__x0_Haze / Windy', 'onehotencoder__x0_Heavy Rain', 'onehotencoder__x0_Heavy Rain / Windy', 'onehotencoder__x0_Heavy Snow', 'onehotencoder__x0_Heavy T-Storm', 'onehotencoder__x0_Heavy T-Storm / Windy', 'onehotencoder__x0_Light Drizzle', 'onehotencoder__x0_Light Drizzle / Windy', 'onehotencoder__x0_Light Freezing Drizzle', 'onehotencoder__x0_Light Freezing Rain', 'onehotencoder__x0_Light Rain', 'onehotencoder__x0_Light Rain / Windy', 'onehotencoder__x0_Light Rain with Thunder', 'onehotencoder__x0_Light Sleet', 'onehotencoder__x0_Light Sleet / Windy', 'onehotencoder__x0_Light Snow', 'onehotencoder__x0_Light Snow / Windy', 'onehotencoder__x0_Light Snow and Sleet', 'onehotencoder__x0_Light Snow and Sleet / Windy', 'onehotencoder__x0_Mist', 'onehotencoder__x0_Mostly Cloudy', 'onehotencoder__x0_Mostly Cloudy / Windy', 'onehotencoder__x0_Partly Cloudy', 'onehotencoder__x0_Partly Cloudy / Windy', 'onehotencoder__x0_Patches of Fog', 'onehotencoder__x0_Patches of Fog / Windy', 'onehotencoder__x0_Rain', 'onehotencoder__x0_Rain / Windy', 'onehotencoder__x0_Shallow Fog', 'onehotencoder__x0_Sleet', 'onehotencoder__x0_Snow', 'onehotencoder__x0_Snow / Windy', 'onehotencoder__x0_Snow and Sleet', 'onehotencoder__x0_Snow and Sleet / Windy', 'onehotencoder__x0_Squalls / Windy', 'onehotencoder__x0_T-Storm', 'onehotencoder__x0_T-Storm / Windy', 'onehotencoder__x0_Thunder', 'onehotencoder__x0_Thunder / Windy', 'onehotencoder__x0_Thunder in the Vicinity', 'onehotencoder__x0_Wintry Mix', 'onehotencoder__x0_Wintry Mix / Windy', 'Temperature_F', 'Dew_Point_F', 'Humidity_%', 'Wind_Speed_mph', 'Wind_Gust_mph', 'Pressure_in', 'Precip_in', 'Carrier_delay_probabilty', 'Destination_delay_probabilty', 'Delaym4h_s', 'Yesterday_delay_probabilty', 'DepDelay', 'Label', 'Wind_x', 'Wind_y', 'DayOfWeek_x', 'DayOfWeek_y', 'Month_x', 'Month_y', 'Hour_x', 'Hour_y']\n"
     ]
    },
    {
     "name": "stderr",
     "output_type": "stream",
     "text": [
      "C:\\Users\\lalit\\anaconda3\\lib\\site-packages\\sklearn\\utils\\deprecation.py:87: FutureWarning: Function get_feature_names is deprecated; get_feature_names is deprecated in 1.0 and will be removed in 1.2. Please use get_feature_names_out instead.\n",
      "  warnings.warn(msg, category=FutureWarning)\n"
     ]
    }
   ],
   "source": [
    "\n",
    "from sklearn.preprocessing import OneHotEncoder\n",
    "from sklearn.compose import make_column_transformer\n",
    "# from sklearn.compose import ColumnTransformer\n",
    "from sklearn.preprocessing import Normalizer\n",
    "from sklearn.preprocessing import MinMaxScaler\n",
    "from sklearn.preprocessing import StandardScaler\n",
    "\n",
    "\n",
    "def cyclic_transform(t,T_max):\n",
    "    return np.sin(2*t*np.pi/T_max),np.cos(2*t*np.pi/T_max)\n",
    "embedded_df=feature_df.copy()\n",
    "\n",
    "embedded_df=embedded_df.dropna()\n",
    "\n",
    "#embedding wind direction\n",
    "dir_keys=  [\"N\",\"NNE\",\"NE\", \"ENE\", \"E\", \"ESE\", \"SE\", \"SSE\",\"S\", \"SSW\", \"SW\", \"WSW\", \"W\", \"WNW\", \"NW\", \"NNW\",'CALM','VAR']\n",
    "dir_values=np.arange(0,2*np.pi+0.001,np.pi/16)      \n",
    "dir_x=np.append(np.cos(dir_values),[0,0.25])\n",
    "dir_y=np.append(np.sin(dir_values),[0,0.25])\n",
    "wind_dict_x,wind_dict_y={},{}\n",
    "for k, vx,vy in zip(dir_keys,dir_x,dir_y):\n",
    "    wind_dict_x[k]=(vx)\n",
    "    wind_dict_y[k]=(vy)\n",
    "embedded_df[\"Wind_x\"]=embedded_df[\"Wind\"].map(wind_dict_x)\n",
    "embedded_df[\"Wind_y\"]=embedded_df[\"Wind\"].map(wind_dict_y) \n",
    "embedded_df.drop(\"Wind\",axis=1, inplace=True)\n",
    "\n",
    "\n",
    "\n",
    "\n",
    "norm_cols=[\"Delaym4h_s\",'Temperature_F', 'Dew_Point_F',  'Humidity_%',  'Wind_Speed_mph', 'Wind_Gust_mph', 'Pressure_in','Precip_in']\n",
    "scaler = MinMaxScaler()\n",
    "embedded_df[norm_cols] = scaler.fit_transform(\n",
    "    embedded_df[norm_cols])\n",
    "\n",
    "cyclic_cols={'DayOfWeek':7, \"Month\":12,\"Hour\":24}\n",
    "for keys in cyclic_cols.keys():\n",
    "    embedded_df[keys+\"_x\"],embedded_df[keys+\"_y\"]=cyclic_transform(embedded_df[keys],cyclic_cols[keys])\n",
    "    embedded_df.drop(keys, axis=1, inplace=True)\n",
    "\n",
    "   \n",
    "    \n",
    "\n",
    "hot_cols=[\"Condition\" ]\n",
    "transformer = make_column_transformer(( OneHotEncoder(), hot_cols),remainder='passthrough')\n",
    "\n",
    "transformed = transformer.fit_transform(embedded_df)\n",
    "print(transformer.get_feature_names())\n",
    "embedded_df = pd.DataFrame(transformed, columns=transformer.get_feature_names())\n"
   ]
  },
  {
   "cell_type": "markdown",
   "metadata": {},
   "source": []
  },
  {
   "cell_type": "code",
   "execution_count": 4,
   "metadata": {},
   "outputs": [
    {
     "name": "stdout",
     "output_type": "stream",
     "text": [
      "['onehotencoder__x0_Cloudy', 'onehotencoder__x0_Cloudy / Windy', 'onehotencoder__x0_Drizzle and Fog', 'onehotencoder__x0_Fair', 'onehotencoder__x0_Fair / Windy', 'onehotencoder__x0_Fog', 'onehotencoder__x0_Fog / Windy', 'onehotencoder__x0_Haze', 'onehotencoder__x0_Haze / Windy', 'onehotencoder__x0_Heavy Rain', 'onehotencoder__x0_Heavy Rain / Windy', 'onehotencoder__x0_Heavy Snow', 'onehotencoder__x0_Heavy T-Storm', 'onehotencoder__x0_Heavy T-Storm / Windy', 'onehotencoder__x0_Light Drizzle', 'onehotencoder__x0_Light Drizzle / Windy', 'onehotencoder__x0_Light Freezing Drizzle', 'onehotencoder__x0_Light Freezing Rain', 'onehotencoder__x0_Light Rain', 'onehotencoder__x0_Light Rain / Windy', 'onehotencoder__x0_Light Rain with Thunder', 'onehotencoder__x0_Light Sleet', 'onehotencoder__x0_Light Sleet / Windy', 'onehotencoder__x0_Light Snow', 'onehotencoder__x0_Light Snow / Windy', 'onehotencoder__x0_Light Snow and Sleet', 'onehotencoder__x0_Light Snow and Sleet / Windy', 'onehotencoder__x0_Mist', 'onehotencoder__x0_Mostly Cloudy', 'onehotencoder__x0_Mostly Cloudy / Windy', 'onehotencoder__x0_Partly Cloudy', 'onehotencoder__x0_Partly Cloudy / Windy', 'onehotencoder__x0_Patches of Fog', 'onehotencoder__x0_Patches of Fog / Windy', 'onehotencoder__x0_Rain', 'onehotencoder__x0_Rain / Windy', 'onehotencoder__x0_Shallow Fog', 'onehotencoder__x0_Sleet', 'onehotencoder__x0_Snow', 'onehotencoder__x0_Snow / Windy', 'onehotencoder__x0_Snow and Sleet', 'onehotencoder__x0_Snow and Sleet / Windy', 'onehotencoder__x0_Squalls / Windy', 'onehotencoder__x0_T-Storm', 'onehotencoder__x0_T-Storm / Windy', 'onehotencoder__x0_Thunder', 'onehotencoder__x0_Thunder / Windy', 'onehotencoder__x0_Thunder in the Vicinity', 'onehotencoder__x0_Wintry Mix', 'onehotencoder__x0_Wintry Mix / Windy', 'Temperature_F', 'Dew_Point_F', 'Humidity_%', 'Wind_Speed_mph', 'Wind_Gust_mph', 'Pressure_in', 'Precip_in', 'Carrier_delay_probabilty', 'Destination_delay_probabilty', 'Delaym4h_s', 'Yesterday_delay_probabilty', 'DepDelay', 'Label', 'Wind_x', 'Wind_y', 'DayOfWeek_x', 'DayOfWeek_y', 'Month_x', 'Month_y', 'Hour_x', 'Hour_y']\n",
      "558606\n",
      "71\n"
     ]
    }
   ],
   "source": [
    "print(transformer.get_feature_names())\n",
    "transformed_df = pd.DataFrame(transformed, columns=transformer.get_feature_names())\n",
    "transformed_df.head()\n",
    "print(len(transformed_df))\n",
    "print(len(transformed[0]))"
   ]
  },
  {
   "cell_type": "code",
   "execution_count": 5,
   "metadata": {},
   "outputs": [],
   "source": [
    "embedded_df.to_csv(\"Embedded_features_2018_2022_prior.csv\")"
   ]
  },
  {
   "cell_type": "code",
   "execution_count": 6,
   "metadata": {},
   "outputs": [
    {
     "data": {
      "text/plain": [
       "Index(['onehotencoder__x0_Cloudy', 'onehotencoder__x0_Cloudy / Windy',\n",
       "       'onehotencoder__x0_Drizzle and Fog', 'onehotencoder__x0_Fair',\n",
       "       'onehotencoder__x0_Fair / Windy', 'onehotencoder__x0_Fog',\n",
       "       'onehotencoder__x0_Fog / Windy', 'onehotencoder__x0_Haze',\n",
       "       'onehotencoder__x0_Haze / Windy', 'onehotencoder__x0_Heavy Rain',\n",
       "       'onehotencoder__x0_Heavy Rain / Windy', 'onehotencoder__x0_Heavy Snow',\n",
       "       'onehotencoder__x0_Heavy T-Storm',\n",
       "       'onehotencoder__x0_Heavy T-Storm / Windy',\n",
       "       'onehotencoder__x0_Light Drizzle',\n",
       "       'onehotencoder__x0_Light Drizzle / Windy',\n",
       "       'onehotencoder__x0_Light Freezing Drizzle',\n",
       "       'onehotencoder__x0_Light Freezing Rain', 'onehotencoder__x0_Light Rain',\n",
       "       'onehotencoder__x0_Light Rain / Windy',\n",
       "       'onehotencoder__x0_Light Rain with Thunder',\n",
       "       'onehotencoder__x0_Light Sleet',\n",
       "       'onehotencoder__x0_Light Sleet / Windy', 'onehotencoder__x0_Light Snow',\n",
       "       'onehotencoder__x0_Light Snow / Windy',\n",
       "       'onehotencoder__x0_Light Snow and Sleet',\n",
       "       'onehotencoder__x0_Light Snow and Sleet / Windy',\n",
       "       'onehotencoder__x0_Mist', 'onehotencoder__x0_Mostly Cloudy',\n",
       "       'onehotencoder__x0_Mostly Cloudy / Windy',\n",
       "       'onehotencoder__x0_Partly Cloudy',\n",
       "       'onehotencoder__x0_Partly Cloudy / Windy',\n",
       "       'onehotencoder__x0_Patches of Fog',\n",
       "       'onehotencoder__x0_Patches of Fog / Windy', 'onehotencoder__x0_Rain',\n",
       "       'onehotencoder__x0_Rain / Windy', 'onehotencoder__x0_Shallow Fog',\n",
       "       'onehotencoder__x0_Sleet', 'onehotencoder__x0_Snow',\n",
       "       'onehotencoder__x0_Snow / Windy', 'onehotencoder__x0_Snow and Sleet',\n",
       "       'onehotencoder__x0_Snow and Sleet / Windy',\n",
       "       'onehotencoder__x0_Squalls / Windy', 'onehotencoder__x0_T-Storm',\n",
       "       'onehotencoder__x0_T-Storm / Windy', 'onehotencoder__x0_Thunder',\n",
       "       'onehotencoder__x0_Thunder / Windy',\n",
       "       'onehotencoder__x0_Thunder in the Vicinity',\n",
       "       'onehotencoder__x0_Wintry Mix', 'onehotencoder__x0_Wintry Mix / Windy',\n",
       "       'Temperature_F', 'Dew_Point_F', 'Humidity_%', 'Wind_Speed_mph',\n",
       "       'Wind_Gust_mph', 'Pressure_in', 'Precip_in', 'Carrier_delay_probabilty',\n",
       "       'Destination_delay_probabilty', 'Delaym4h_s',\n",
       "       'Yesterday_delay_probabilty', 'DepDelay', 'Label', 'Wind_x', 'Wind_y',\n",
       "       'DayOfWeek_x', 'DayOfWeek_y', 'Month_x', 'Month_y', 'Hour_x', 'Hour_y'],\n",
       "      dtype='object')"
      ]
     },
     "execution_count": 6,
     "metadata": {},
     "output_type": "execute_result"
    }
   ],
   "source": [
    "embedded_df.columns"
   ]
  },
  {
   "cell_type": "code",
   "execution_count": 7,
   "metadata": {},
   "outputs": [],
   "source": [
    "df_19_22_pr=pd.read_csv(\"Embedded_features_2018_2022_prior.csv\")\n",
    "df_22_post=pd.read_csv(\"Embedded_features_Aug2022_posterior.csv\")\n",
    "df_all=pd.read_csv(\"Embedded_features_2018_2022.csv\")"
   ]
  },
  {
   "cell_type": "code",
   "execution_count": 8,
   "metadata": {},
   "outputs": [
    {
     "ename": "SyntaxError",
     "evalue": "invalid syntax (Temp/ipykernel_17436/989252039.py, line 1)",
     "output_type": "error",
     "traceback": [
      "\u001b[1;36m  File \u001b[1;32m\"C:\\Users\\lalit\\AppData\\Local\\Temp/ipykernel_17436/989252039.py\"\u001b[1;36m, line \u001b[1;32m1\u001b[0m\n\u001b[1;33m    df_all=df_all['2022-08-01':'2022-08-31'].iloc[]\u001b[0m\n\u001b[1;37m                                                  ^\u001b[0m\n\u001b[1;31mSyntaxError\u001b[0m\u001b[1;31m:\u001b[0m invalid syntax\n"
     ]
    }
   ],
   "source": [
    "df_all=df_all['2022-08-01':'2022-08-31'].iloc[]\n",
    "df_all.Carrier_delay_probabilty.hist(density=True)\n",
    "df_22_post.Carrier_delay_probabilty.hist(alpha=.5,\n",
    "                                         density=True)\n"
   ]
  },
  {
   "cell_type": "markdown",
   "metadata": {},
   "source": []
  },
  {
   "cell_type": "code",
   "execution_count": null,
   "metadata": {
    "scrolled": false
   },
   "outputs": [],
   "source": [
    "df_all[-10715  :-1].Destination_delay_probabilty.hist()"
   ]
  },
  {
   "cell_type": "code",
   "execution_count": null,
   "metadata": {},
   "outputs": [],
   "source": [
    "df_22_post.iloc[-10715  :-1].Destination_delay_probabilty.hist()"
   ]
  },
  {
   "cell_type": "markdown",
   "metadata": {},
   "source": []
  },
  {
   "cell_type": "code",
   "execution_count": null,
   "metadata": {},
   "outputs": [],
   "source": [
    "df_19_22_pr.Destination_delay_probabilty.hist()"
   ]
  },
  {
   "cell_type": "markdown",
   "metadata": {},
   "source": []
  },
  {
   "cell_type": "code",
   "execution_count": null,
   "metadata": {},
   "outputs": [],
   "source": [
    "df_22_post.Month_x"
   ]
  },
  {
   "cell_type": "code",
   "execution_count": null,
   "metadata": {},
   "outputs": [],
   "source": []
  },
  {
   "cell_type": "markdown",
   "metadata": {},
   "source": []
  },
  {
   "cell_type": "code",
   "execution_count": null,
   "metadata": {},
   "outputs": [],
   "source": [
    "df_19_22_pr.Month_x.unique()"
   ]
  },
  {
   "cell_type": "code",
   "execution_count": null,
   "metadata": {},
   "outputs": [],
   "source": []
  },
  {
   "cell_type": "code",
   "execution_count": null,
   "metadata": {},
   "outputs": [],
   "source": []
  },
  {
   "cell_type": "code",
   "execution_count": null,
   "metadata": {
    "scrolled": false
   },
   "outputs": [],
   "source": []
  },
  {
   "cell_type": "code",
   "execution_count": null,
   "metadata": {},
   "outputs": [],
   "source": []
  },
  {
   "cell_type": "code",
   "execution_count": null,
   "metadata": {},
   "outputs": [],
   "source": [
    "\n"
   ]
  },
  {
   "cell_type": "code",
   "execution_count": null,
   "metadata": {},
   "outputs": [],
   "source": []
  },
  {
   "cell_type": "code",
   "execution_count": null,
   "metadata": {
    "scrolled": false
   },
   "outputs": [],
   "source": []
  },
  {
   "cell_type": "code",
   "execution_count": null,
   "metadata": {},
   "outputs": [],
   "source": []
  },
  {
   "cell_type": "code",
   "execution_count": null,
   "metadata": {},
   "outputs": [],
   "source": []
  },
  {
   "cell_type": "code",
   "execution_count": null,
   "metadata": {},
   "outputs": [],
   "source": [
    "\n"
   ]
  },
  {
   "cell_type": "code",
   "execution_count": null,
   "metadata": {},
   "outputs": [],
   "source": []
  },
  {
   "cell_type": "code",
   "execution_count": null,
   "metadata": {},
   "outputs": [],
   "source": []
  },
  {
   "cell_type": "code",
   "execution_count": null,
   "metadata": {},
   "outputs": [],
   "source": []
  },
  {
   "cell_type": "code",
   "execution_count": null,
   "metadata": {},
   "outputs": [],
   "source": []
  },
  {
   "cell_type": "code",
   "execution_count": null,
   "metadata": {},
   "outputs": [],
   "source": [
    "\\"
   ]
  },
  {
   "cell_type": "code",
   "execution_count": null,
   "metadata": {},
   "outputs": [],
   "source": []
  },
  {
   "cell_type": "code",
   "execution_count": null,
   "metadata": {},
   "outputs": [],
   "source": []
  },
  {
   "cell_type": "code",
   "execution_count": null,
   "metadata": {},
   "outputs": [],
   "source": []
  },
  {
   "cell_type": "code",
   "execution_count": null,
   "metadata": {},
   "outputs": [],
   "source": []
  },
  {
   "cell_type": "code",
   "execution_count": null,
   "metadata": {},
   "outputs": [],
   "source": []
  },
  {
   "cell_type": "code",
   "execution_count": null,
   "metadata": {},
   "outputs": [],
   "source": []
  },
  {
   "cell_type": "markdown",
   "metadata": {},
   "source": []
  },
  {
   "cell_type": "code",
   "execution_count": null,
   "metadata": {},
   "outputs": [],
   "source": []
  },
  {
   "cell_type": "code",
   "execution_count": null,
   "metadata": {},
   "outputs": [],
   "source": []
  },
  {
   "cell_type": "code",
   "execution_count": null,
   "metadata": {},
   "outputs": [],
   "source": []
  },
  {
   "cell_type": "code",
   "execution_count": null,
   "metadata": {},
   "outputs": [],
   "source": []
  },
  {
   "cell_type": "code",
   "execution_count": null,
   "metadata": {},
   "outputs": [],
   "source": []
  },
  {
   "cell_type": "code",
   "execution_count": null,
   "metadata": {},
   "outputs": [],
   "source": []
  },
  {
   "cell_type": "code",
   "execution_count": null,
   "metadata": {},
   "outputs": [],
   "source": []
  }
 ],
 "metadata": {
  "kernelspec": {
   "display_name": "Python 3 (ipykernel)",
   "language": "python",
   "name": "python3"
  },
  "language_info": {
   "codemirror_mode": {
    "name": "ipython",
    "version": 3
   },
   "file_extension": ".py",
   "mimetype": "text/x-python",
   "name": "python",
   "nbconvert_exporter": "python",
   "pygments_lexer": "ipython3",
   "version": "3.9.7"
  }
 },
 "nbformat": 4,
 "nbformat_minor": 4
}
